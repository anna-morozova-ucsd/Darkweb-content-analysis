{
 "cells": [
  {
   "cell_type": "markdown",
   "metadata": {},
   "source": [
    "# Project Description"
   ]
  },
  {
   "cell_type": "markdown",
   "metadata": {},
   "source": [
    "Recently, I got interested in the darknet technology, so I wanted to analyze some data from there.  I found a dataset which contains a web scrape on 'cocaine' category from the darkweb shop called Dream Market. The dataset contains 1504 listings from July 2017. The goal of this project is to analyze the data from this website and find statistical trends in it if any. "
   ]
  },
  {
   "cell_type": "markdown",
   "metadata": {},
   "source": [
    "### Sources I used\n",
    "dataset for analysis https://www.kaggle.com/everling/cocaine-listings?select=dream_market_cocaine_listings.csv <br>\n",
    "tutorial on pandas https://www.youtube.com/watch?v=vmEHCJofslg&t=2197s <br>\n",
    "tutorial on matplotlib https://www.youtube.com/watch?v=Airdzeoorsg&list=LL&index=5&t=912s <br>\n",
    "tutorial on merging columns on pandas https://www.datasciencelearner.com/how-to-merge-two-columns-in-pandas/ <br>\n",
    "tutorial on sort_vlues https://www.geeksforgeeks.org/python-pandas-series-sort_values/ <br>\n",
    "tutorial on groupby https://www.geeksforgeeks.org/python-pandas-dataframe-groupby/ <br>\n",
    "tutorial on pandas tests https://www.youtube.com/watch?v=Da-FL_1i6ps\n"
   ]
  },
  {
   "cell_type": "markdown",
   "metadata": {},
   "source": [
    "## Project Code\n",
    "\n"
   ]
  },
  {
   "cell_type": "code",
   "execution_count": 10,
   "metadata": {
    "scrolled": true
   },
   "outputs": [
    {
     "data": {
      "text/html": [
       "<div>\n",
       "<style scoped>\n",
       "    .dataframe tbody tr th:only-of-type {\n",
       "        vertical-align: middle;\n",
       "    }\n",
       "\n",
       "    .dataframe tbody tr th {\n",
       "        vertical-align: top;\n",
       "    }\n",
       "\n",
       "    .dataframe thead th {\n",
       "        text-align: right;\n",
       "    }\n",
       "</style>\n",
       "<table border=\"1\" class=\"dataframe\">\n",
       "  <thead>\n",
       "    <tr style=\"text-align: right;\">\n",
       "      <th></th>\n",
       "      <th>product_title</th>\n",
       "      <th>ships_from_to</th>\n",
       "      <th>grams</th>\n",
       "      <th>quality</th>\n",
       "      <th>btc_price</th>\n",
       "      <th>cost_per_gram</th>\n",
       "      <th>vendor_name</th>\n",
       "      <th>successful_transactions</th>\n",
       "      <th>rating</th>\n",
       "      <th>ships_from</th>\n",
       "      <th>ships_to</th>\n",
       "      <th>ships_to_1</th>\n",
       "      <th>ships_to_2</th>\n",
       "    </tr>\n",
       "  </thead>\n",
       "  <tbody>\n",
       "    <tr>\n",
       "      <th>0</th>\n",
       "      <td>!!!!!INTRO OFFER!!!!! 1GR COCAINE 90%</td>\n",
       "      <td>NL  to EU</td>\n",
       "      <td>1.0</td>\n",
       "      <td>90.0</td>\n",
       "      <td>0.02577</td>\n",
       "      <td>0.025770</td>\n",
       "      <td>Mister-Molly</td>\n",
       "      <td>90</td>\n",
       "      <td>4.63</td>\n",
       "      <td>NL</td>\n",
       "      <td>EU</td>\n",
       "      <td>EU</td>\n",
       "      <td>None</td>\n",
       "    </tr>\n",
       "    <tr>\n",
       "      <th>1</th>\n",
       "      <td>!!!!!INTRO OFFER!!!!! 2GR COCAINE 90%</td>\n",
       "      <td>NL  to EU</td>\n",
       "      <td>2.0</td>\n",
       "      <td>90.0</td>\n",
       "      <td>0.05150</td>\n",
       "      <td>0.025750</td>\n",
       "      <td>Mister-Molly</td>\n",
       "      <td>90</td>\n",
       "      <td>4.63</td>\n",
       "      <td>NL</td>\n",
       "      <td>EU</td>\n",
       "      <td>EU</td>\n",
       "      <td>None</td>\n",
       "    </tr>\n",
       "    <tr>\n",
       "      <th>2</th>\n",
       "      <td>!!!INTRO!!! 0.5G COCAINE 89% - STRAIGHT FROM T...</td>\n",
       "      <td>NL  to EU</td>\n",
       "      <td>0.5</td>\n",
       "      <td>89.0</td>\n",
       "      <td>0.01649</td>\n",
       "      <td>0.032980</td>\n",
       "      <td>0ldamsterdamm</td>\n",
       "      <td>620</td>\n",
       "      <td>4.94</td>\n",
       "      <td>NL</td>\n",
       "      <td>EU</td>\n",
       "      <td>EU</td>\n",
       "      <td>None</td>\n",
       "    </tr>\n",
       "    <tr>\n",
       "      <th>3</th>\n",
       "      <td>!1G! C O L O M B I A N C O C A I N E - 89% PURITY</td>\n",
       "      <td>FR  to EU</td>\n",
       "      <td>1.0</td>\n",
       "      <td>89.0</td>\n",
       "      <td>0.04120</td>\n",
       "      <td>0.041200</td>\n",
       "      <td>lhomme-masquer</td>\n",
       "      <td>15</td>\n",
       "      <td>5.00</td>\n",
       "      <td>FR</td>\n",
       "      <td>EU</td>\n",
       "      <td>EU</td>\n",
       "      <td>None</td>\n",
       "    </tr>\n",
       "    <tr>\n",
       "      <th>4</th>\n",
       "      <td>** 1 Gram 87% Pure Uncut Colombian Cocaine **</td>\n",
       "      <td>NL  to WW</td>\n",
       "      <td>1.0</td>\n",
       "      <td>87.0</td>\n",
       "      <td>0.03400</td>\n",
       "      <td>0.034000</td>\n",
       "      <td>SMOOTHCRIMINAL007</td>\n",
       "      <td>28</td>\n",
       "      <td>4.78</td>\n",
       "      <td>NL</td>\n",
       "      <td>WW</td>\n",
       "      <td>WW</td>\n",
       "      <td>None</td>\n",
       "    </tr>\n",
       "    <tr>\n",
       "      <th>5</th>\n",
       "      <td>** 10 Gram 87% Pure Uncut Colombian Cocaine **</td>\n",
       "      <td>NL  to WW</td>\n",
       "      <td>10.0</td>\n",
       "      <td>87.0</td>\n",
       "      <td>0.27050</td>\n",
       "      <td>0.027050</td>\n",
       "      <td>SMOOTHCRIMINAL007</td>\n",
       "      <td>28</td>\n",
       "      <td>4.78</td>\n",
       "      <td>NL</td>\n",
       "      <td>WW</td>\n",
       "      <td>WW</td>\n",
       "      <td>None</td>\n",
       "    </tr>\n",
       "    <tr>\n",
       "      <th>6</th>\n",
       "      <td>** 2 Gram 87% Pure Uncut Colombian Cocaine **</td>\n",
       "      <td>NL  to WW</td>\n",
       "      <td>2.0</td>\n",
       "      <td>87.0</td>\n",
       "      <td>0.06230</td>\n",
       "      <td>0.031150</td>\n",
       "      <td>SMOOTHCRIMINAL007</td>\n",
       "      <td>28</td>\n",
       "      <td>4.78</td>\n",
       "      <td>NL</td>\n",
       "      <td>WW</td>\n",
       "      <td>WW</td>\n",
       "      <td>None</td>\n",
       "    </tr>\n",
       "    <tr>\n",
       "      <th>7</th>\n",
       "      <td>** 3 Gram 87% Pure Uncut Colombian Cocaine **</td>\n",
       "      <td>NL  to WW</td>\n",
       "      <td>3.0</td>\n",
       "      <td>87.0</td>\n",
       "      <td>0.08900</td>\n",
       "      <td>0.029667</td>\n",
       "      <td>SMOOTHCRIMINAL007</td>\n",
       "      <td>28</td>\n",
       "      <td>4.78</td>\n",
       "      <td>NL</td>\n",
       "      <td>WW</td>\n",
       "      <td>WW</td>\n",
       "      <td>None</td>\n",
       "    </tr>\n",
       "    <tr>\n",
       "      <th>8</th>\n",
       "      <td>** 5 Gram 87% Pure Uncut Colombian Cocaine **</td>\n",
       "      <td>NL  to WW</td>\n",
       "      <td>5.0</td>\n",
       "      <td>87.0</td>\n",
       "      <td>0.14170</td>\n",
       "      <td>0.028340</td>\n",
       "      <td>SMOOTHCRIMINAL007</td>\n",
       "      <td>28</td>\n",
       "      <td>4.78</td>\n",
       "      <td>NL</td>\n",
       "      <td>WW</td>\n",
       "      <td>WW</td>\n",
       "      <td>None</td>\n",
       "    </tr>\n",
       "    <tr>\n",
       "      <th>9</th>\n",
       "      <td>***** 0.5 gm uk to uk sociable cocaine 75%</td>\n",
       "      <td>GB  to GB</td>\n",
       "      <td>0.5</td>\n",
       "      <td>75.0</td>\n",
       "      <td>0.01173</td>\n",
       "      <td>0.023460</td>\n",
       "      <td>cocaineuk</td>\n",
       "      <td>380</td>\n",
       "      <td>4.93</td>\n",
       "      <td>GB</td>\n",
       "      <td>GB</td>\n",
       "      <td>GB</td>\n",
       "      <td>None</td>\n",
       "    </tr>\n",
       "    <tr>\n",
       "      <th>10</th>\n",
       "      <td>***** 1 gm uk to uk sociable cocaine 75% pure</td>\n",
       "      <td>GB  to GB</td>\n",
       "      <td>1.0</td>\n",
       "      <td>75.0</td>\n",
       "      <td>0.01937</td>\n",
       "      <td>0.019370</td>\n",
       "      <td>cocaineuk</td>\n",
       "      <td>380</td>\n",
       "      <td>4.93</td>\n",
       "      <td>GB</td>\n",
       "      <td>GB</td>\n",
       "      <td>GB</td>\n",
       "      <td>None</td>\n",
       "    </tr>\n",
       "    <tr>\n",
       "      <th>11</th>\n",
       "      <td>***** 14 gm uk to uk sociable cocaine 75% pure</td>\n",
       "      <td>GB  to GB</td>\n",
       "      <td>14.0</td>\n",
       "      <td>75.0</td>\n",
       "      <td>0.20500</td>\n",
       "      <td>0.014643</td>\n",
       "      <td>cocaineuk</td>\n",
       "      <td>380</td>\n",
       "      <td>4.93</td>\n",
       "      <td>GB</td>\n",
       "      <td>GB</td>\n",
       "      <td>GB</td>\n",
       "      <td>None</td>\n",
       "    </tr>\n",
       "    <tr>\n",
       "      <th>12</th>\n",
       "      <td>***** 1gram uk to uk pure perivian flake 95%</td>\n",
       "      <td>GB  to GB</td>\n",
       "      <td>1.0</td>\n",
       "      <td>95.0</td>\n",
       "      <td>0.03228</td>\n",
       "      <td>0.032280</td>\n",
       "      <td>cocaineuk</td>\n",
       "      <td>380</td>\n",
       "      <td>4.93</td>\n",
       "      <td>GB</td>\n",
       "      <td>GB</td>\n",
       "      <td>GB</td>\n",
       "      <td>None</td>\n",
       "    </tr>\n",
       "    <tr>\n",
       "      <th>13</th>\n",
       "      <td>***** 2 gm uk to uk sociable cocaine 75% pure</td>\n",
       "      <td>GB  to GB</td>\n",
       "      <td>2.0</td>\n",
       "      <td>75.0</td>\n",
       "      <td>0.03520</td>\n",
       "      <td>0.017600</td>\n",
       "      <td>cocaineuk</td>\n",
       "      <td>380</td>\n",
       "      <td>4.93</td>\n",
       "      <td>GB</td>\n",
       "      <td>GB</td>\n",
       "      <td>GB</td>\n",
       "      <td>None</td>\n",
       "    </tr>\n",
       "    <tr>\n",
       "      <th>14</th>\n",
       "      <td>***** 28 gm uk to uk sociable cocaine 75% pure</td>\n",
       "      <td>GB  to GB</td>\n",
       "      <td>28.0</td>\n",
       "      <td>75.0</td>\n",
       "      <td>0.36980</td>\n",
       "      <td>0.013207</td>\n",
       "      <td>cocaineuk</td>\n",
       "      <td>380</td>\n",
       "      <td>4.93</td>\n",
       "      <td>GB</td>\n",
       "      <td>GB</td>\n",
       "      <td>GB</td>\n",
       "      <td>None</td>\n",
       "    </tr>\n",
       "  </tbody>\n",
       "</table>\n",
       "</div>"
      ],
      "text/plain": [
       "                                        product_title ships_from_to  grams  \\\n",
       "0               !!!!!INTRO OFFER!!!!! 1GR COCAINE 90%     NL  to EU    1.0   \n",
       "1               !!!!!INTRO OFFER!!!!! 2GR COCAINE 90%     NL  to EU    2.0   \n",
       "2   !!!INTRO!!! 0.5G COCAINE 89% - STRAIGHT FROM T...     NL  to EU    0.5   \n",
       "3   !1G! C O L O M B I A N C O C A I N E - 89% PURITY     FR  to EU    1.0   \n",
       "4       ** 1 Gram 87% Pure Uncut Colombian Cocaine **     NL  to WW    1.0   \n",
       "5      ** 10 Gram 87% Pure Uncut Colombian Cocaine **     NL  to WW   10.0   \n",
       "6       ** 2 Gram 87% Pure Uncut Colombian Cocaine **     NL  to WW    2.0   \n",
       "7       ** 3 Gram 87% Pure Uncut Colombian Cocaine **     NL  to WW    3.0   \n",
       "8       ** 5 Gram 87% Pure Uncut Colombian Cocaine **     NL  to WW    5.0   \n",
       "9          ***** 0.5 gm uk to uk sociable cocaine 75%     GB  to GB    0.5   \n",
       "10      ***** 1 gm uk to uk sociable cocaine 75% pure     GB  to GB    1.0   \n",
       "11     ***** 14 gm uk to uk sociable cocaine 75% pure     GB  to GB   14.0   \n",
       "12       ***** 1gram uk to uk pure perivian flake 95%     GB  to GB    1.0   \n",
       "13      ***** 2 gm uk to uk sociable cocaine 75% pure     GB  to GB    2.0   \n",
       "14     ***** 28 gm uk to uk sociable cocaine 75% pure     GB  to GB   28.0   \n",
       "\n",
       "    quality  btc_price  cost_per_gram        vendor_name  \\\n",
       "0      90.0    0.02577       0.025770       Mister-Molly   \n",
       "1      90.0    0.05150       0.025750       Mister-Molly   \n",
       "2      89.0    0.01649       0.032980      0ldamsterdamm   \n",
       "3      89.0    0.04120       0.041200     lhomme-masquer   \n",
       "4      87.0    0.03400       0.034000  SMOOTHCRIMINAL007   \n",
       "5      87.0    0.27050       0.027050  SMOOTHCRIMINAL007   \n",
       "6      87.0    0.06230       0.031150  SMOOTHCRIMINAL007   \n",
       "7      87.0    0.08900       0.029667  SMOOTHCRIMINAL007   \n",
       "8      87.0    0.14170       0.028340  SMOOTHCRIMINAL007   \n",
       "9      75.0    0.01173       0.023460          cocaineuk   \n",
       "10     75.0    0.01937       0.019370          cocaineuk   \n",
       "11     75.0    0.20500       0.014643          cocaineuk   \n",
       "12     95.0    0.03228       0.032280          cocaineuk   \n",
       "13     75.0    0.03520       0.017600          cocaineuk   \n",
       "14     75.0    0.36980       0.013207          cocaineuk   \n",
       "\n",
       "    successful_transactions  rating ships_from ships_to ships_to_1 ships_to_2  \n",
       "0                        90    4.63       NL         EU         EU       None  \n",
       "1                        90    4.63       NL         EU         EU       None  \n",
       "2                       620    4.94       NL         EU         EU       None  \n",
       "3                        15    5.00       FR         EU         EU       None  \n",
       "4                        28    4.78       NL         WW         WW       None  \n",
       "5                        28    4.78       NL         WW         WW       None  \n",
       "6                        28    4.78       NL         WW         WW       None  \n",
       "7                        28    4.78       NL         WW         WW       None  \n",
       "8                        28    4.78       NL         WW         WW       None  \n",
       "9                       380    4.93       GB         GB         GB       None  \n",
       "10                      380    4.93       GB         GB         GB       None  \n",
       "11                      380    4.93       GB         GB         GB       None  \n",
       "12                      380    4.93       GB         GB         GB       None  \n",
       "13                      380    4.93       GB         GB         GB       None  \n",
       "14                      380    4.93       GB         GB         GB       None  "
      ]
     },
     "execution_count": 10,
     "metadata": {},
     "output_type": "execute_result"
    }
   ],
   "source": [
    "import pandas as pd\n",
    "import matplotlib.pyplot as plt\n",
    "\n",
    "#open Excel file\n",
    "df = pd.read_excel('dream_market.xlsx')\n",
    "\n",
    "#prepapre dataset for analysis\n",
    "from functions import prepare\n",
    "prepare(df)\n",
    "\n",
    "#the dataset\n",
    "df.head(15)\n",
    "\n",
    "\n"
   ]
  },
  {
   "cell_type": "markdown",
   "metadata": {},
   "source": [
    "**Here's a piece of dataframe above**"
   ]
  },
  {
   "cell_type": "code",
   "execution_count": 2,
   "metadata": {},
   "outputs": [
    {
     "data": {
      "image/png": "[encoded data removed]",
      "text/plain": [
       "<Figure size 432x288 with 1 Axes>"
      ]
     },
     "metadata": {
      "needs_background": "light"
     },
     "output_type": "display_data"
    }
   ],
   "source": [
    "from functions import ships_most\n",
    "\n",
    "#makes a plot\n",
    "graph1 = ships_most(df)\n",
    "graph1.plot(kind = 'bar')\n",
    "plt.show()"
   ]
  },
  {
   "cell_type": "markdown",
   "metadata": {},
   "source": [
    "**From the graph above, we can see that most vendors ship cocaine from Netherlands, than goes Germany, Great Britain and the US**"
   ]
  },
  {
   "cell_type": "code",
   "execution_count": 13,
   "metadata": {
    "scrolled": true
   },
   "outputs": [
    {
     "name": "stdout",
     "output_type": "stream",
     "text": [
      "what's the price for the cocaine? type  the number of grams here:  5\n"
     ]
    },
    {
     "data": {
      "text/plain": [
       "'$384.68 per 5 grams'"
      ]
     },
     "execution_count": 13,
     "metadata": {},
     "output_type": "execute_result"
    }
   ],
   "source": [
    "#calculate price per gram\n",
    "from functions import price\n",
    "price(df)"
   ]
  },
  {
   "cell_type": "markdown",
   "metadata": {},
   "source": [
    "**The above function can give as an idea about the price of cocaine per gram.** <br>\n",
    "Run it to try!"
   ]
  },
  {
   "cell_type": "code",
   "execution_count": 4,
   "metadata": {},
   "outputs": [
    {
     "data": {
      "image/png": "[encoded data removed]",
      "text/plain": [
       "<Figure size 432x288 with 1 Axes>"
      ]
     },
     "metadata": {
      "needs_background": "light"
     },
     "output_type": "display_data"
    }
   ],
   "source": [
    "#quality-rating correlation\n",
    "\n",
    "from functions import plot\n",
    "plot(df)\n",
    "plt.show()"
   ]
  },
  {
   "cell_type": "markdown",
   "metadata": {},
   "source": [
    "**The graph above shows the general tendency that the better the quality - the higher the rating  <br>\n",
    "which means that economic laws on the darkweb are similar to those on the regular market**"
   ]
  },
  {
   "cell_type": "code",
   "execution_count": 5,
   "metadata": {},
   "outputs": [
    {
     "data": {
      "image/png": "[encoded data removed]",
      "text/plain": [
       "<Figure size 432x288 with 1 Axes>"
      ]
     },
     "metadata": {
      "needs_background": "light"
     },
     "output_type": "display_data"
    }
   ],
   "source": [
    "#countries most vendors ship to\n",
    "from functions import receives_most\n",
    "\n",
    "#makes a plot\n",
    "graph2 = receives_most(df)\n",
    "graph2.plot(kind = 'bar')\n",
    "plt.show()"
   ]
  },
  {
   "cell_type": "markdown",
   "metadata": {},
   "source": [
    "**The graph above shows that most vendors ship cocaine worldwide, the 2nd place goes to those who ship to Europe only, then goes Great Britain, Germany and the US.**"
   ]
  },
  {
   "cell_type": "markdown",
   "metadata": {},
   "source": [
    "#### Extra Credit \n",
    "\n",
    "\n",
    "1. I started Coursera \"Introduction to Python course\" and finished half of it (3/6 weeks). \n",
    "2. I taught myself lots of new stuff like using matplotlib and pandas, particularly importing Excel files to python, making different kinds of plots, splittig, merging, grouping columns in dataframes, sorting values and finding mean value of a column, installing Python 3.7."
   ]
  }
 ],
 "metadata": {
  "kernelspec": {
   "display_name": "Python 3",
   "language": "python",
   "name": "python3"
  },
  "language_info": {
   "codemirror_mode": {
    "name": "ipython",
    "version": 3
   },
   "file_extension": ".py",
   "mimetype": "text/x-python",
   "name": "python",
   "nbconvert_exporter": "python",
   "pygments_lexer": "ipython3",
   "version": "3.8.3"
  }
 },
 "nbformat": 4,
 "nbformat_minor": 2
}
